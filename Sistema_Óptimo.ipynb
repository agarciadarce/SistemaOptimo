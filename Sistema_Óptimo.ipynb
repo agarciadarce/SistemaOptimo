{
  "nbformat": 4,
  "nbformat_minor": 0,
  "metadata": {
    "colab": {
      "name": "Sistema Óptimo.ipynb",
      "provenance": [],
      "collapsed_sections": [],
      "authorship_tag": "ABX9TyN9TWxz+OBVvMKpT2f9gtki",
      "include_colab_link": true
    },
    "kernelspec": {
      "name": "python3",
      "display_name": "Python 3"
    }
  },
  "cells": [
    {
      "cell_type": "markdown",
      "metadata": {
        "id": "view-in-github",
        "colab_type": "text"
      },
      "source": [
        "<a href=\"https://colab.research.google.com/github/agarciadarce/SistemaOptimo/blob/main/Sistema_%C3%93ptimo.ipynb\" target=\"_parent\"><img src=\"https://colab.research.google.com/assets/colab-badge.svg\" alt=\"Open In Colab\"/></a>"
      ]
    },
    {
      "cell_type": "code",
      "metadata": {
        "id": "emR7NGFPvKbQ"
      },
      "source": [
        "# datos\n",
        "objetivos = [\"Ser un crack\", \"Ser un máster\", \"Ser un doctor\"]\n",
        "alternativas = [{\"obj\": 1,\"alt\": 1, \"nombre\": \"Estudiar\", \"costo\": 2500 }, \n",
        "                {\"obj\": 1,\"alt\": 2, \"nombre\": \"Estudiar más\", \"costo\": 2250 }, \n",
        "                {\"obj\": 2,\"alt\": 3, \"nombre\": \"Estudiar\", \"costo\": 2100 }, \n",
        "                {\"obj\": 2,\"alt\": 4, \"nombre\": \"Estudiar mucho\", \"costo\": 1800 }, \n",
        "                {\"obj\": 3,\"alt\": 5, \"nombre\": \"Estudiar mucho más\", \"costo\": 1700 }, \n",
        "                {\"obj\": 3,\"alt\":  6, \"nombre\": \"Estudiar demasiado\", \"costo\": 1900 }, ]\n",
        "\n",
        "obj_versus_altr = [[2,3,1],[1,1,2],[2,1,1],\n",
        "                   [1,3,1],[3,1,2],[2,2,1],]\n"
      ],
      "execution_count": 1,
      "outputs": []
    },
    {
      "cell_type": "code",
      "metadata": {
        "id": "HgCQ3_Z7vig9",
        "outputId": "6dce6cd5-c80b-40ad-c4a6-fca08081b26f",
        "colab": {
          "base_uri": "https://localhost:8080/"
        }
      },
      "source": [
        "eprint(\"\".ljust(20), end =\"\")\n",
        "for objetivo in objetivos:\n",
        "  print(objetivo, end=\" \")\n",
        "print()\n",
        "for i in rang (len(obj_versus_altr)):\n",
        "  print(alternativas[i][\"nombre\"].ljust(20), end=\" \")\n",
        "  for j in range(len(obj_versus_altr[i])):\n",
        "    print(str(obj_versus_altr[i][j]).ljust(12), end=\" \")\n",
        "  print()"
      ],
      "execution_count": null,
      "outputs": [
        {
          "output_type": "stream",
          "text": [
            "                    Ser un crack Ser un máster Ser un doctor \n",
            "Estudiar             2            3            1            \n",
            "Estudiar más         1            1            2            \n",
            "Estudiar             2            1            1            \n",
            "Estudiar mucho       1            3            1            \n",
            "Estudiar mucho más   3            1            2            \n",
            "Estudiar demasiado   2            2            1            \n"
          ],
          "name": "stdout"
        }
      ]
    },
    {
      "cell_type": "code",
      "metadata": {
        "id": "Wqpsmzq15FGH"
      },
      "source": [
        "def potencia(c):\n",
        "    if len(c) == 0:\n",
        "        return [[]]\n",
        "    r = potencia(c[:-1])\n",
        "    return r + [s + [c[-1]] for s in r]\n",
        "def combinaciones(c, n):\n",
        "    return [s for s in potencia(c) if len(s) == n]\n",
        "def obtener_modelo(matriz):\n",
        "    array_sistemas = []\n",
        "    for fila in matriz:\n",
        "      array_alternativas = []\n",
        "      costos_totales = 0\n",
        "      suma_puntos = 0\n",
        "      for columna in fila:\n",
        "        nombre = \"O\" + str(columna[\"obj\"]) + \"A\" + str(columna[\"alt\"])\n",
        "        print(nombre, end=\",\")\n",
        "        array_alternativas.append(nombre)\n",
        "        suma_puntos += obj_versus_altr[columna[\"alt\"] - 1][columna[\"obj\"] - 1]\n",
        "        costos_totales += columna[\"costo\"]\n",
        "      print(suma_puntos, end=\",\")\n",
        "      print(costos_totales)\n",
        "      array_sistemas.append({\"alternativas\": array_alternativas, \"puntos\": suma_puntos,\"costo\": costos_totales  })\n",
        "    return array_sistemas\n"
      ],
      "execution_count": 3,
      "outputs": []
    },
    {
      "cell_type": "code",
      "metadata": {
        "id": "T1hDuLdN5oqs",
        "outputId": "f3e0e221-53a3-4b5a-bc7f-88e3c252e469",
        "colab": {
          "base_uri": "https://localhost:8080/"
        }
      },
      "source": [
        "resultados = obtener_modelo(combinaciones(alternativas, 3))"
      ],
      "execution_count": 4,
      "outputs": [
        {
          "output_type": "stream",
          "text": [
            "O1A1,O1A2,O2A3,4,6850\n",
            "O1A1,O1A2,O2A4,6,6550\n",
            "O1A1,O2A3,O2A4,6,6400\n",
            "O1A2,O2A3,O2A4,5,6150\n",
            "O1A1,O1A2,O3A5,5,6450\n",
            "O1A1,O2A3,O3A5,5,6300\n",
            "O1A2,O2A3,O3A5,4,6050\n",
            "O1A1,O2A4,O3A5,7,6000\n",
            "O1A2,O2A4,O3A5,6,5750\n",
            "O2A3,O2A4,O3A5,6,5600\n",
            "O1A1,O1A2,O3A6,4,6650\n",
            "O1A1,O2A3,O3A6,4,6500\n",
            "O1A2,O2A3,O3A6,3,6250\n",
            "O1A1,O2A4,O3A6,6,6200\n",
            "O1A2,O2A4,O3A6,5,5950\n",
            "O2A3,O2A4,O3A6,5,5800\n",
            "O1A1,O3A5,O3A6,5,6100\n",
            "O1A2,O3A5,O3A6,4,5850\n",
            "O2A3,O3A5,O3A6,4,5700\n",
            "O2A4,O3A5,O3A6,6,5400\n"
          ],
          "name": "stdout"
        }
      ]
    },
    {
      "cell_type": "code",
      "metadata": {
        "id": "v3UWKwBs792I",
        "outputId": "8a0495a2-eb68-4c90-be21-b242e8ebb416",
        "colab": {
          "base_uri": "https://localhost:8080/"
        }
      },
      "source": [
        "print(resultados)"
      ],
      "execution_count": 5,
      "outputs": [
        {
          "output_type": "stream",
          "text": [
            "[{'alternativas': ['O1A1', 'O1A2', 'O2A3'], 'puntos': 4, 'costo': 6850}, {'alternativas': ['O1A1', 'O1A2', 'O2A4'], 'puntos': 6, 'costo': 6550}, {'alternativas': ['O1A1', 'O2A3', 'O2A4'], 'puntos': 6, 'costo': 6400}, {'alternativas': ['O1A2', 'O2A3', 'O2A4'], 'puntos': 5, 'costo': 6150}, {'alternativas': ['O1A1', 'O1A2', 'O3A5'], 'puntos': 5, 'costo': 6450}, {'alternativas': ['O1A1', 'O2A3', 'O3A5'], 'puntos': 5, 'costo': 6300}, {'alternativas': ['O1A2', 'O2A3', 'O3A5'], 'puntos': 4, 'costo': 6050}, {'alternativas': ['O1A1', 'O2A4', 'O3A5'], 'puntos': 7, 'costo': 6000}, {'alternativas': ['O1A2', 'O2A4', 'O3A5'], 'puntos': 6, 'costo': 5750}, {'alternativas': ['O2A3', 'O2A4', 'O3A5'], 'puntos': 6, 'costo': 5600}, {'alternativas': ['O1A1', 'O1A2', 'O3A6'], 'puntos': 4, 'costo': 6650}, {'alternativas': ['O1A1', 'O2A3', 'O3A6'], 'puntos': 4, 'costo': 6500}, {'alternativas': ['O1A2', 'O2A3', 'O3A6'], 'puntos': 3, 'costo': 6250}, {'alternativas': ['O1A1', 'O2A4', 'O3A6'], 'puntos': 6, 'costo': 6200}, {'alternativas': ['O1A2', 'O2A4', 'O3A6'], 'puntos': 5, 'costo': 5950}, {'alternativas': ['O2A3', 'O2A4', 'O3A6'], 'puntos': 5, 'costo': 5800}, {'alternativas': ['O1A1', 'O3A5', 'O3A6'], 'puntos': 5, 'costo': 6100}, {'alternativas': ['O1A2', 'O3A5', 'O3A6'], 'puntos': 4, 'costo': 5850}, {'alternativas': ['O2A3', 'O3A5', 'O3A6'], 'puntos': 4, 'costo': 5700}, {'alternativas': ['O2A4', 'O3A5', 'O3A6'], 'puntos': 6, 'costo': 5400}]\n"
          ],
          "name": "stdout"
        }
      ]
    },
    {
      "cell_type": "code",
      "metadata": {
        "id": "J4uptv4nAIuj",
        "outputId": "c216ec09-9eab-45d3-afb5-021ced549b28",
        "colab": {
          "base_uri": "https://localhost:8080/"
        }
      },
      "source": [
        "resultados = sorted(resultados, key = lambda resultado: resultado[\"puntos\"], reverse=True)\n",
        "print(resultados[0])"
      ],
      "execution_count": 6,
      "outputs": [
        {
          "output_type": "stream",
          "text": [
            "{'alternativas': ['O1A1', 'O2A4', 'O3A5'], 'puntos': 7, 'costo': 6000}\n"
          ],
          "name": "stdout"
        }
      ]
    }
  ]
}